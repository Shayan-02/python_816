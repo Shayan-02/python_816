{
 "cells": [
  {
   "cell_type": "markdown",
   "id": "86ca57bb",
   "metadata": {},
   "source": [
    "## Introduction to Pandas\n",
    "\n",
    "Pandas is a powerful open-source data analysis and data manipulation library for Python. It provides data structures such as Series and DataFrame that allow for efficient data handling."
   ]
  },
  {
   "cell_type": "code",
   "execution_count": null,
   "id": "5952b173",
   "metadata": {},
   "outputs": [],
   "source": [
    "import pandas as pd\n",
    "print(pd.__version__)"
   ]
  },
  {
   "cell_type": "markdown",
   "id": "88edea55",
   "metadata": {},
   "source": [
    "## Creating a Series\n",
    "\n",
    "A Series is a one-dimensional labeled array capable of holding any data type."
   ]
  },
  {
   "cell_type": "code",
   "execution_count": null,
   "id": "e27c1c38",
   "metadata": {},
   "outputs": [],
   "source": [
    "import pandas as pd\n",
    "s = pd.Series([1, 3, 5, 7, 9])\n",
    "print(s)"
   ]
  },
  {
   "cell_type": "markdown",
   "id": "f61b5c23",
   "metadata": {},
   "source": [
    "## Creating a DataFrame\n",
    "\n",
    "A DataFrame is a two-dimensional labeled data structure with columns of potentially different types."
   ]
  },
  {
   "cell_type": "code",
   "execution_count": null,
   "id": "f190e181",
   "metadata": {},
   "outputs": [],
   "source": [
    "import pandas as pd\n",
    "data = {'Name': ['Alice', 'Bob', 'Charlie'], 'Age': [25, 30, 35]}\n",
    "df = pd.DataFrame(data)\n",
    "print(df)"
   ]
  },
  {
   "cell_type": "markdown",
   "id": "297d65ca",
   "metadata": {},
   "source": [
    "## Reading a CSV File\n",
    "\n",
    "Pandas allows reading data from various file formats, including CSV."
   ]
  },
  {
   "cell_type": "code",
   "execution_count": null,
   "id": "71d44d39",
   "metadata": {},
   "outputs": [],
   "source": [
    "import pandas as pd\n",
    "df = pd.read_csv('sample.csv')\n",
    "print(df.head())"
   ]
  },
  {
   "cell_type": "markdown",
   "id": "122f2db2",
   "metadata": {},
   "source": [
    "## Basic DataFrame Operations\n",
    "\n",
    "You can perform various operations on a DataFrame such as viewing, selecting, filtering, and modifying data."
   ]
  },
  {
   "cell_type": "code",
   "execution_count": null,
   "id": "b63ca82d",
   "metadata": {},
   "outputs": [],
   "source": [
    "import pandas as pd\n",
    "data = {'A': [1, 2, 3], 'B': [4, 5, 6]}\n",
    "df = pd.DataFrame(data)\n",
    "print(df.describe())\n",
    "print(df.info())"
   ]
  },
  {
   "cell_type": "markdown",
   "id": "0fcbd81d",
   "metadata": {},
   "source": [
    "## Filtering Data\n",
    "\n",
    "Pandas provides powerful tools to filter data based on conditions."
   ]
  },
  {
   "cell_type": "code",
   "execution_count": null,
   "id": "2eb23e57",
   "metadata": {},
   "outputs": [],
   "source": [
    "import pandas as pd\n",
    "data = {'Name': ['Alice', 'Bob', 'Charlie'], 'Age': [25, 30, 35]}\n",
    "df = pd.DataFrame(data)\n",
    "filtered_df = df[df['Age'] > 25]\n",
    "print(filtered_df)"
   ]
  },
  {
   "cell_type": "markdown",
   "id": "1fd1e259",
   "metadata": {},
   "source": [
    "## Handling Missing Data\n",
    "\n",
    "Missing data is a common issue in real-world datasets. Pandas provides functions to handle missing values."
   ]
  },
  {
   "cell_type": "code",
   "execution_count": null,
   "id": "2172cdae",
   "metadata": {},
   "outputs": [],
   "source": [
    "import pandas as pd\n",
    "data = {'A': [1, 2, None], 'B': [4, None, 6]}\n",
    "df = pd.DataFrame(data)\n",
    "print(df.fillna(0))"
   ]
  },
  {
   "cell_type": "markdown",
   "id": "46507bdf",
   "metadata": {},
   "source": [
    "## Grouping and Aggregation\n",
    "\n",
    "Pandas allows grouping data and applying aggregation functions."
   ]
  },
  {
   "cell_type": "code",
   "execution_count": null,
   "id": "2fbd00d7",
   "metadata": {},
   "outputs": [],
   "source": [
    "import pandas as pd\n",
    "data = {'Category': ['A', 'B', 'A', 'B'], 'Values': [10, 20, 30, 40]}\n",
    "df = pd.DataFrame(data)\n",
    "print(df.groupby('Category').sum())"
   ]
  },
  {
   "cell_type": "markdown",
   "id": "1eb51687",
   "metadata": {},
   "source": [
    "## Merging and Joining DataFrames\n",
    "\n",
    "Pandas provides powerful tools for merging and joining datasets."
   ]
  },
  {
   "cell_type": "code",
   "execution_count": null,
   "id": "44a4d44e",
   "metadata": {},
   "outputs": [],
   "source": [
    "import pandas as pd\n",
    "df1 = pd.DataFrame({'ID': [1, 2, 3], 'Name': ['Alice', 'Bob', 'Charlie']})\n",
    "df2 = pd.DataFrame({'ID': [1, 2, 4], 'Age': [25, 30, 40]})\n",
    "merged_df = pd.merge(df1, df2, on='ID', how='inner')\n",
    "print(merged_df)"
   ]
  },
  {
   "cell_type": "markdown",
   "id": "b23b0823",
   "metadata": {},
   "source": [
    "## Pivot Tables\n",
    "\n",
    "Pivot tables allow you to summarize data in a flexible manner."
   ]
  },
  {
   "cell_type": "code",
   "execution_count": null,
   "id": "a3382aad",
   "metadata": {},
   "outputs": [],
   "source": [
    "import pandas as pd\n",
    "data = {'Category': ['A', 'A', 'B', 'B'], 'Values': [10, 20, 30, 40]}\n",
    "df = pd.DataFrame(data)\n",
    "pivot = df.pivot_table(values='Values', index='Category', aggfunc='sum')\n",
    "print(pivot)"
   ]
  },
  {
   "cell_type": "markdown",
   "id": "52444888",
   "metadata": {},
   "source": [
    "## Exporting Data\n",
    "\n",
    "Pandas allows exporting DataFrames to various file formats such as CSV, Excel, and JSON."
   ]
  },
  {
   "cell_type": "code",
   "execution_count": null,
   "id": "42cb839a",
   "metadata": {},
   "outputs": [],
   "source": [
    "import pandas as pd\n",
    "data = {'Name': ['Alice', 'Bob'], 'Age': [25, 30]}\n",
    "df = pd.DataFrame(data)\n",
    "df.to_csv('output.csv', index=False)\n",
    "print('CSV file saved.')"
   ]
  }
 ],
 "metadata": {},
 "nbformat": 4,
 "nbformat_minor": 5
}
