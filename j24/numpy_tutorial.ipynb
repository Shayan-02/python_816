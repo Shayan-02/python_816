{
 "cells": [
  {
   "cell_type": "markdown",
   "id": "0e3049bf",
   "metadata": {},
   "source": [
    "# NumPy Tutorial\n",
    "NumPy is a powerful numerical computing library in Python. It provides support for large multidimensional arrays and matrices, along with a collection of mathematical functions to operate on these arrays."
   ]
  },
  {
   "cell_type": "markdown",
   "id": "e564f083",
   "metadata": {},
   "source": [
    "## Installation\n",
    "To install NumPy, use the following command:"
   ]
  },
  {
   "cell_type": "code",
   "execution_count": null,
   "id": "660291a1",
   "metadata": {},
   "outputs": [],
   "source": [
    "#pip install numpy"
   ]
  },
  {
   "cell_type": "markdown",
   "id": "015b45d5",
   "metadata": {},
   "source": [
    "## Importing NumPy\n",
    "To start using NumPy, you need to import it into your Python environment."
   ]
  },
  {
   "cell_type": "code",
   "execution_count": 2,
   "id": "a71e059c",
   "metadata": {},
   "outputs": [],
   "source": [
    "import numpy as np"
   ]
  },
  {
   "cell_type": "markdown",
   "id": "36555c19",
   "metadata": {},
   "source": [
    "## Creating Arrays\n",
    "NumPy provides several ways to create arrays, including from Python lists or using built-in functions."
   ]
  },
  {
   "cell_type": "code",
   "execution_count": 2,
   "id": "db26bbd7",
   "metadata": {},
   "outputs": [
    {
     "name": "stdout",
     "output_type": "stream",
     "text": [
      "[1 2 3 4 5]\n",
      "[[1 2 3]\n",
      " [4 5 6]]\n"
     ]
    }
   ],
   "source": [
    "array1 = np.array([1, 2, 3, 4, 5])\n",
    "array2 = np.array([[1, 2, 3], [4, 5, 6]])\n",
    "print(array1)\n",
    "print(array2)"
   ]
  },
  {
   "cell_type": "markdown",
   "id": "8da5fa9c",
   "metadata": {},
   "source": [
    "## Array Properties\n",
    "NumPy arrays have various properties that help in understanding their structure."
   ]
  },
  {
   "cell_type": "code",
   "execution_count": 3,
   "id": "c1a2180f",
   "metadata": {},
   "outputs": [
    {
     "name": "stdout",
     "output_type": "stream",
     "text": [
      "(2, 3)\n",
      "6\n",
      "int64\n"
     ]
    }
   ],
   "source": [
    "print(array2.shape)  # Dimensions of the array\n",
    "print(array2.size)   # Total number of elements\n",
    "print(array2.dtype)  # Data type of elements"
   ]
  },
  {
   "cell_type": "markdown",
   "id": "81487aa4",
   "metadata": {},
   "source": [
    "## Creating Special Arrays\n",
    "NumPy provides functions to create arrays with specific values, such as zeros, ones, and ranges."
   ]
  },
  {
   "cell_type": "code",
   "execution_count": 4,
   "id": "7de54442",
   "metadata": {},
   "outputs": [
    {
     "name": "stdout",
     "output_type": "stream",
     "text": [
      "[[0. 0. 0.]\n",
      " [0. 0. 0.]\n",
      " [0. 0. 0.]] \n",
      "\n",
      "[[1. 1. 1. 1.]\n",
      " [1. 1. 1. 1.]] \n",
      "\n",
      "[[1. 0. 0. 0.]\n",
      " [0. 1. 0. 0.]\n",
      " [0. 0. 1. 0.]\n",
      " [0. 0. 0. 1.]] \n",
      "\n",
      "[0 2 4 6 8]\n"
     ]
    }
   ],
   "source": [
    "zeros = np.zeros((3,3))\n",
    "ones = np.ones((2,4))\n",
    "identity = np.eye(4)  # Identity matrix\n",
    "arange_array = np.arange(0, 10, 2)\n",
    "print(zeros, '\\n')\n",
    "print(ones, '\\n')\n",
    "print(identity, '\\n')\n",
    "print(arange_array)"
   ]
  },
  {
   "cell_type": "markdown",
   "id": "1e70602f",
   "metadata": {},
   "source": [
    "## Indexing and Slicing\n",
    "You can access specific elements, slices, and even modify elements in NumPy arrays."
   ]
  },
  {
   "cell_type": "code",
   "execution_count": 5,
   "id": "2954ea6e",
   "metadata": {},
   "outputs": [
    {
     "name": "stdout",
     "output_type": "stream",
     "text": [
      "10\n",
      "50\n",
      "[20 30 40]\n"
     ]
    }
   ],
   "source": [
    "array = np.array([10, 20, 30, 40, 50])\n",
    "print(array[0])  # First element\n",
    "print(array[-1]) # Last element\n",
    "print(array[1:4]) # Slicing elements"
   ]
  },
  {
   "cell_type": "markdown",
   "id": "d0d09a63",
   "metadata": {},
   "source": [
    "## Reshaping Arrays\n",
    "NumPy allows you to change the shape of an array without changing its data."
   ]
  },
  {
   "cell_type": "code",
   "execution_count": 6,
   "id": "be60fa0d",
   "metadata": {},
   "outputs": [
    {
     "name": "stdout",
     "output_type": "stream",
     "text": [
      "[[1 2 3]\n",
      " [4 5 6]\n",
      " [7 8 9]]\n"
     ]
    }
   ],
   "source": [
    "reshaped = np.arange(1, 10).reshape(3,3)\n",
    "print(reshaped)"
   ]
  },
  {
   "cell_type": "markdown",
   "id": "8680f964",
   "metadata": {},
   "source": [
    "## Mathematical Operations\n",
    "NumPy supports element-wise mathematical operations and broadcasting."
   ]
  },
  {
   "cell_type": "code",
   "execution_count": 7,
   "id": "ba24283e",
   "metadata": {},
   "outputs": [
    {
     "name": "stdout",
     "output_type": "stream",
     "text": [
      "[5 7 9]\n",
      "[ 4 10 18]\n",
      "[1 4 9]\n"
     ]
    }
   ],
   "source": [
    "a = np.array([1, 2, 3])\n",
    "b = np.array([4, 5, 6])\n",
    "print(a + b)  # Element-wise addition\n",
    "print(a * b)  # Element-wise multiplication\n",
    "print(a ** 2) # Squaring elements"
   ]
  },
  {
   "cell_type": "markdown",
   "id": "2ff9fccc",
   "metadata": {},
   "source": [
    "## Statistical Functions\n",
    "NumPy provides various statistical functions like mean, median, and standard deviation."
   ]
  },
  {
   "cell_type": "code",
   "execution_count": 3,
   "id": "5c2a340a",
   "metadata": {},
   "outputs": [
    {
     "name": "stdout",
     "output_type": "stream",
     "text": [
      "35.0\n",
      "35.0\n",
      "17.07825127659933\n"
     ]
    }
   ],
   "source": [
    "data = np.array([10, 20, 30, 40, 50, 60])\n",
    "print(np.mean(data))   # Mean\n",
    "print(np.median(data)) # Median\n",
    "print(np.std(data))    # Standard Deviation"
   ]
  },
  {
   "cell_type": "markdown",
   "id": "5242ba22",
   "metadata": {},
   "source": [
    "## Generating Random Numbers\n",
    "NumPy has a built-in random module for generating random numbers."
   ]
  },
  {
   "cell_type": "code",
   "execution_count": 9,
   "id": "c29a574b",
   "metadata": {},
   "outputs": [
    {
     "name": "stdout",
     "output_type": "stream",
     "text": [
      "[[0.302466   0.36664425 0.86955158]\n",
      " [0.45073256 0.61688103 0.83549405]\n",
      " [0.5765342  0.75096602 0.22298238]]\n"
     ]
    }
   ],
   "source": [
    "random_array = np.random.rand(3, 3)  # 3x3 array with random values\n",
    "print(random_array)"
   ]
  },
  {
   "cell_type": "markdown",
   "id": "411a5591",
   "metadata": {},
   "source": [
    "## Saving and Loading Arrays\n",
    "You can save NumPy arrays to a file and load them later."
   ]
  },
  {
   "cell_type": "code",
   "execution_count": 4,
   "id": "be888a7c",
   "metadata": {},
   "outputs": [
    {
     "ename": "NameError",
     "evalue": "name 'array' is not defined",
     "output_type": "error",
     "traceback": [
      "\u001b[1;31m---------------------------------------------------------------------------\u001b[0m",
      "\u001b[1;31mNameError\u001b[0m                                 Traceback (most recent call last)",
      "Cell \u001b[1;32mIn[4], line 1\u001b[0m\n\u001b[1;32m----> 1\u001b[0m np\u001b[38;5;241m.\u001b[39msave(\u001b[38;5;124m'\u001b[39m\u001b[38;5;124marray.npy\u001b[39m\u001b[38;5;124m'\u001b[39m, array)\n\u001b[0;32m      2\u001b[0m loaded_array \u001b[38;5;241m=\u001b[39m np\u001b[38;5;241m.\u001b[39mload(\u001b[38;5;124m'\u001b[39m\u001b[38;5;124marray.npy\u001b[39m\u001b[38;5;124m'\u001b[39m)\n\u001b[0;32m      3\u001b[0m \u001b[38;5;28mprint\u001b[39m(loaded_array)\n",
      "\u001b[1;31mNameError\u001b[0m: name 'array' is not defined"
     ]
    }
   ],
   "source": [
    "np.save('array.npy', array)\n",
    "loaded_array = np.load('array.npy')\n",
    "print(loaded_array)"
   ]
  }
 ],
 "metadata": {
  "kernelspec": {
   "display_name": "base",
   "language": "python",
   "name": "python3"
  },
  "language_info": {
   "codemirror_mode": {
    "name": "ipython",
    "version": 3
   },
   "file_extension": ".py",
   "mimetype": "text/x-python",
   "name": "python",
   "nbconvert_exporter": "python",
   "pygments_lexer": "ipython3",
   "version": "3.12.3"
  }
 },
 "nbformat": 4,
 "nbformat_minor": 5
}
