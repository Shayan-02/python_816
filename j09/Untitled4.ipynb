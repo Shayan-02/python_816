{
  "nbformat": 4,
  "nbformat_minor": 0,
  "metadata": {
    "colab": {
      "provenance": [],
      "gpuType": "T4"
    },
    "kernelspec": {
      "name": "python3",
      "display_name": "Python 3"
    },
    "language_info": {
      "name": "python"
    }
  },
  "cells": [
    {
      "cell_type": "code",
      "execution_count": 9,
      "metadata": {
        "id": "F_Bexrv3uvO4"
      },
      "outputs": [],
      "source": [
        "def hajMashti(att: str) -> str:\n",
        "  \"\"\"\n",
        "  Get a user attribiute and return Haji, Karbalayee, Mashti or Agha.\n",
        "\n",
        "  Args:\n",
        "    att (str): User attribiute.\n",
        "\n",
        "  Returns:\n",
        "    str: Haji, Karbalayee, Mashti or Agha.\n",
        "  \"\"\"\n",
        "  if len(att) == 3:\n",
        "    if att[0] and att[1] and att[2] in [\"y\", \"Y\", \"n\", \"N\"]:\n",
        "      if att[0].lower() == \"y\":\n",
        "        return \"Haji\"\n",
        "      elif att[1].lower() == \"y\":\n",
        "        return \"Karbalayee\"\n",
        "      elif att[2].lower() == \"y\":\n",
        "        return \"Mashti\"\n",
        "      elif att[0] and att[1] and att[2] == \"n\":\n",
        "        return \"Agha\"\n",
        "    else:\n",
        "      return \"Invalid input length\"\n",
        "  else:\n",
        "    return \"Invalid input value\""
      ]
    },
    {
      "cell_type": "code",
      "source": [
        "print(hajMashti(\"yy\"))"
      ],
      "metadata": {
        "colab": {
          "base_uri": "https://localhost:8080/"
        },
        "id": "51ndRRnsxnab",
        "outputId": "2a989dc3-c60e-48bb-c32b-b1f14c0002ba"
      },
      "execution_count": 10,
      "outputs": [
        {
          "output_type": "stream",
          "name": "stdout",
          "text": [
            "Invalid input value\n"
          ]
        }
      ]
    },
    {
      "cell_type": "code",
      "source": [
        "def su(*number: tuple) -> int:\n",
        "  \"\"\"\n",
        "  Get a number and return the sum of its digits.\n",
        "\n",
        "  Args:\n",
        "    number (int): Number to sum.\n",
        "\n",
        "  Returns:\n",
        "    int: Sum of digits.\n",
        "  \"\"\"\n",
        "  sum = 0\n",
        "  for i in number:\n",
        "    sum += int(i)\n",
        "  return sum"
      ],
      "metadata": {
        "id": "6HNJ98zryyFd"
      },
      "execution_count": 20,
      "outputs": []
    },
    {
      "cell_type": "code",
      "source": [
        "nums = input().split()\n",
        "print(su(*nums))"
      ],
      "metadata": {
        "colab": {
          "base_uri": "https://localhost:8080/"
        },
        "id": "nrfnp0j_18jT",
        "outputId": "4349679a-6189-402a-cc98-9df497d0cdd8"
      },
      "execution_count": 21,
      "outputs": [
        {
          "output_type": "stream",
          "name": "stdout",
          "text": [
            "1 2 3 4 5\n",
            "15\n"
          ]
        }
      ]
    },
    {
      "cell_type": "code",
      "source": [
        "def sums(a: float, b:float) -> float:\n",
        "  \"\"\"\n",
        "  Get two numbers and return their sum.\n",
        "\n",
        "  Args:\n",
        "    a (float): First number.\n",
        "    b (float): Second number.\n",
        "\n",
        "  Returns:\n",
        "    float: Sum of numbers.\n",
        "  \"\"\"\n",
        "  return a + b\n",
        "\n",
        "\n",
        "def sub(a: float, b:float) -> float:\n",
        "  \"\"\"\n",
        "  Get two numbers and return their difference.\n",
        "\n",
        "  Args:\n",
        "    a (float): First number.\n",
        "    b (float): Second number.\n",
        "\n",
        "  Returns:\n",
        "    float: Difference of numbers.\n",
        "  \"\"\"\n",
        "  return a - b\n",
        "\n",
        "\n",
        "def mult(a: float, b:float) -> float:\n",
        "  \"\"\"\n",
        "  Get two numbers and return their product.\n",
        "\n",
        "  Args:\n",
        "    a (float): First number.\n",
        "    b (float): Second number.\n",
        "\n",
        "  Returns:\n",
        "    float: Product of numbers.\n",
        "  \"\"\"\n",
        "  return a * b\n",
        "\n",
        "\n",
        "def div(a: float, b:float) -> float:\n",
        "  \"\"\"\n",
        "  Get two numbers and return their quotient.\n",
        "\n",
        "  Args:\n",
        "    a (float): First number.\n",
        "    b (float): Second number.\n",
        "\n",
        "  Returns:\n",
        "    float: Quotient of numbers.\n",
        "  \"\"\"\n",
        "  if b == 0:\n",
        "    return \"Can not division by zero\"\n",
        "  else:\n",
        "    return a / b"
      ],
      "metadata": {
        "id": "fwnN_2kL3fug"
      },
      "execution_count": 22,
      "outputs": []
    },
    {
      "cell_type": "code",
      "source": [
        "num1 = float(input(\"enter first number: \"))\n",
        "op = input(\"enter operator: \")\n",
        "num2 = float(input(\"enter second number: \"))\n",
        "\n",
        "if op == \"+\":\n",
        "  print(sums(num1, num2))\n",
        "elif op == \"-\":\n",
        "  print(sub(num1, num2))\n",
        "elif op == \"*\":\n",
        "  print(mult(num1, num2))\n",
        "elif op == \"/\":\n",
        "  print(div(num1, num2))\n",
        "else:\n",
        "  print(\"Invalid operator\")"
      ],
      "metadata": {
        "id": "GtdfEkWM4OHm"
      },
      "execution_count": null,
      "outputs": []
    },
    {
      "cell_type": "code",
      "source": [
        "print(eval(input(\"enter a sequense: \")))"
      ],
      "metadata": {
        "colab": {
          "base_uri": "https://localhost:8080/"
        },
        "id": "Ec2aDxh24jvQ",
        "outputId": "ae3e70e4-9cae-4aeb-e45b-d674cfda943e"
      },
      "execution_count": 23,
      "outputs": [
        {
          "output_type": "stream",
          "name": "stdout",
          "text": [
            "enter a sequense: 12 + 15 - 3 * 2 ** 3 / 4\n",
            "21.0\n"
          ]
        }
      ]
    },
    {
      "cell_type": "code",
      "source": [
        "def sums(a: float, b:float) -> float:\n",
        "  return a + b"
      ],
      "metadata": {
        "id": "WAyxrBSV6i6h"
      },
      "execution_count": 24,
      "outputs": []
    },
    {
      "cell_type": "code",
      "source": [
        "x = lambda a, b : a + b\n",
        "print(x(5, 6))"
      ],
      "metadata": {
        "colab": {
          "base_uri": "https://localhost:8080/"
        },
        "id": "ucqYPW4N6oeF",
        "outputId": "e2eeadde-eca4-4a4f-a7d4-857c8cc4fdaf"
      },
      "execution_count": 25,
      "outputs": [
        {
          "output_type": "stream",
          "name": "stdout",
          "text": [
            "11\n"
          ]
        }
      ]
    },
    {
      "cell_type": "code",
      "source": [
        "x = lambda a, b : a + b; print(x(5, 6))"
      ],
      "metadata": {
        "colab": {
          "base_uri": "https://localhost:8080/"
        },
        "id": "D7UPADbC79ms",
        "outputId": "99d5ae5e-c692-4a82-8aca-65ccf6266f0e"
      },
      "execution_count": 27,
      "outputs": [
        {
          "output_type": "stream",
          "name": "stdout",
          "text": [
            "<function <lambda> at 0x7f3e614ccf70>\n",
            "11\n"
          ]
        }
      ]
    },
    {
      "cell_type": "code",
      "source": [
        "print(y := lambda : \"Hello World\")"
      ],
      "metadata": {
        "colab": {
          "base_uri": "https://localhost:8080/"
        },
        "id": "6zMYK0lF8DNE",
        "outputId": "ed4d143a-a11b-4865-9aab-d64293e7233a"
      },
      "execution_count": 28,
      "outputs": [
        {
          "output_type": "stream",
          "name": "stdout",
          "text": [
            "<function <lambda> at 0x7f3e614cd2d0>\n"
          ]
        }
      ]
    },
    {
      "cell_type": "code",
      "source": [
        "s = []\n",
        "for i in range(1, 11):\n",
        "  s.append(i)\n",
        "s"
      ],
      "metadata": {
        "colab": {
          "base_uri": "https://localhost:8080/"
        },
        "id": "oQmaHi3i83K9",
        "outputId": "3abdb186-9db6-41fd-c532-d0206a2ec2f3"
      },
      "execution_count": 29,
      "outputs": [
        {
          "output_type": "execute_result",
          "data": {
            "text/plain": [
              "[1, 2, 3, 4, 5, 6, 7, 8, 9, 10]"
            ]
          },
          "metadata": {},
          "execution_count": 29
        }
      ]
    },
    {
      "cell_type": "code",
      "source": [
        "s = [i for i in range(1, 11)]\n",
        "s"
      ],
      "metadata": {
        "colab": {
          "base_uri": "https://localhost:8080/"
        },
        "id": "KxKrquNu9Iss",
        "outputId": "f9f4cc7d-ceaa-4c07-ebc0-18be3cdcda49"
      },
      "execution_count": 30,
      "outputs": [
        {
          "output_type": "execute_result",
          "data": {
            "text/plain": [
              "[1, 2, 3, 4, 5, 6, 7, 8, 9, 10]"
            ]
          },
          "metadata": {},
          "execution_count": 30
        }
      ]
    },
    {
      "cell_type": "code",
      "source": [
        "y = [i**2 for i in range(10, 31) if i % 2 == 0]\n",
        "y"
      ],
      "metadata": {
        "colab": {
          "base_uri": "https://localhost:8080/"
        },
        "id": "1T0BNxiv9PYD",
        "outputId": "0af044d6-ec31-42ce-a029-e62b43186c0e"
      },
      "execution_count": 37,
      "outputs": [
        {
          "output_type": "execute_result",
          "data": {
            "text/plain": [
              "[100, 144, 196, 256, 324, 400, 484, 576, 676, 784, 900]"
            ]
          },
          "metadata": {},
          "execution_count": 37
        }
      ]
    },
    {
      "cell_type": "code",
      "source": [
        "s1 = [1, 2, 3]\n",
        "s2 = [4, 2, 3]\n",
        "z = [(i, j) for i in s1 for j in s2 if i != j]\n",
        "z"
      ],
      "metadata": {
        "colab": {
          "base_uri": "https://localhost:8080/"
        },
        "id": "w2aO97Xg9kqh",
        "outputId": "b7af609b-1ed0-4aaf-a4bd-c6267f45c673"
      },
      "execution_count": 42,
      "outputs": [
        {
          "output_type": "execute_result",
          "data": {
            "text/plain": [
              "[(1, 4), (1, 2), (1, 3), (2, 4), (2, 3), (3, 4), (3, 2)]"
            ]
          },
          "metadata": {},
          "execution_count": 42
        }
      ]
    },
    {
      "cell_type": "code",
      "source": [
        "matrix = [\n",
        "    [1, 2, 3, 4],\n",
        "    [5, 6, 7, 8],\n",
        "    [9, 10, 11, 12]\n",
        "]\n",
        "\n",
        "print(\"Normal:\")\n",
        "t = []\n",
        "for i in range(4):\n",
        "    t_row = []\n",
        "    for row in matrix:\n",
        "        t_row.append(row[i])\n",
        "    t.append(t_row)\n",
        "for j in t:\n",
        "    print(j)\n",
        "\n",
        "print(\"Transpose:\")\n"
      ],
      "metadata": {
        "colab": {
          "base_uri": "https://localhost:8080/"
        },
        "id": "kzGA939CASBD",
        "outputId": "2bb4d7b7-a136-4132-bcd0-aae2e9f94f57"
      },
      "execution_count": 43,
      "outputs": [
        {
          "output_type": "stream",
          "name": "stdout",
          "text": [
            "Normal:\n",
            "[1, 5, 9]\n",
            "[2, 6, 10]\n",
            "[3, 7, 11]\n",
            "[4, 8, 12]\n",
            "Transpose:\n"
          ]
        }
      ]
    },
    {
      "cell_type": "code",
      "source": [
        "matrix = [\n",
        "    [1, 2, 3, 4],\n",
        "    [5, 6, 7, 8],\n",
        "    [9, 10, 11, 12]]\n",
        "print(\"Comprehension:\")\n",
        "t2 = [[row[i] for row in matrix] for i in range(4)]\n",
        "t2"
      ],
      "metadata": {
        "colab": {
          "base_uri": "https://localhost:8080/"
        },
        "id": "w4FHnzdSDIGs",
        "outputId": "7f2d9fa0-0af4-47b3-8622-78a95c797329"
      },
      "execution_count": 46,
      "outputs": [
        {
          "output_type": "stream",
          "name": "stdout",
          "text": [
            "Comprehension:\n"
          ]
        },
        {
          "output_type": "execute_result",
          "data": {
            "text/plain": [
              "[[1, 5, 9], [2, 6, 10], [3, 7, 11], [4, 8, 12]]"
            ]
          },
          "metadata": {},
          "execution_count": 46
        }
      ]
    },
    {
      "cell_type": "code",
      "source": [],
      "metadata": {
        "id": "FqSUOMwRDtll"
      },
      "execution_count": null,
      "outputs": []
    }
  ]
}