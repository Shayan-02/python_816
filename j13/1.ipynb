{
 "cells": [
  {
   "cell_type": "code",
   "execution_count": 24,
   "metadata": {},
   "outputs": [
    {
     "name": "stdout",
     "output_type": "stream",
     "text": [
      "mohammad\n",
      "reza\n"
     ]
    }
   ],
   "source": [
    "class Person:\n",
    "    __esm = \"mohammad\"\n",
    "    # def __init__(self, name, age, pid, gen, job):\n",
    "    #     self.name = name\n",
    "    #     self.age = age\n",
    "    #     self.pid = pid\n",
    "    #     self.gen = gen\n",
    "    #     self.job = job\n",
    "    def getName(self):\n",
    "        print(self.__esm)\n",
    "\n",
    "    def setName(self, name):\n",
    "        self.__esm = name\n",
    "    \n",
    "\n",
    "p1 = Person()\n",
    "p1.getName() # before edit esm\n",
    "p1.setName(input(\"enter a name: \"))\n",
    "p1.getName()  # after edit esm\n",
    "# p1.sayName(\"ali\")\n",
    "\n",
    "\n",
    "# p2 = Person()\n",
    "# p1.sayName(\"reza\")\n",
    "# p1.sayName(\"saeed\")"
   ]
  },
  {
   "cell_type": "code",
   "execution_count": 31,
   "metadata": {},
   "outputs": [],
   "source": [
    "class shakhs:\n",
    "    def __init__(self, __name, age, pid, gen, job):\n",
    "        self.name = __name\n",
    "        self.age = age\n",
    "        pid = 0\n",
    "        gen = 0\n",
    "        job = 0\n",
    "\n",
    "    def sayName(self):\n",
    "        return f\"hello {self.__name}\"\n",
    "\n",
    "    def sayInfo(self):\n",
    "        return f\"your name is {self.__name} & your age is {self.age}\"\n",
    "    \n",
    "    def getName(self, name):\n",
    "        self.__name = name\n"
   ]
  },
  {
   "cell_type": "code",
   "execution_count": 43,
   "metadata": {},
   "outputs": [
    {
     "name": "stdout",
     "output_type": "stream",
     "text": [
      "hello ali\n",
      "hello asghar\n"
     ]
    }
   ],
   "source": [
    "s1 = shakhs(name=\"ali\", age=10)\n",
    "\n",
    "print(s1.sayName())\n",
    "s1.getName(\"asghar\")\n",
    "print(s1.sayName())\n"
   ]
  },
  {
   "cell_type": "code",
   "execution_count": null,
   "metadata": {},
   "outputs": [],
   "source": []
  }
 ],
 "metadata": {
  "kernelspec": {
   "display_name": "Python 3",
   "language": "python",
   "name": "python3"
  },
  "language_info": {
   "codemirror_mode": {
    "name": "ipython",
    "version": 3
   },
   "file_extension": ".py",
   "mimetype": "text/x-python",
   "name": "python",
   "nbconvert_exporter": "python",
   "pygments_lexer": "ipython3",
   "version": "3.13.1"
  }
 },
 "nbformat": 4,
 "nbformat_minor": 2
}
